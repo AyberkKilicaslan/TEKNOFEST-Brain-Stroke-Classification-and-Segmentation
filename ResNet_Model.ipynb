{
  "cells": [
    {
      "cell_type": "code",
      "execution_count": null,
      "metadata": {
        "id": "BykvsGK4-4Yu"
      },
      "outputs": [],
      "source": [
        "%matplotlib inline\n",
        "import numpy as np\n",
        "import cv2\n",
        "import os\n",
        "import pandas as pd\n",
        "from tqdm import tqdm\n",
        "import imutils\n",
        "import matplotlib.pyplot as plt\n",
        "import tensorflow as tf\n",
        "from sklearn.model_selection import train_test_split\n",
        "from tensorflow.keras.preprocessing import image\n",
        "from sklearn.metrics import confusion_matrix,plot_confusion_matrix\n",
        "from tensorflow.keras.models import Sequential\n",
        "from tensorflow.keras.layers import Dense, Dropout, Activation, Flatten, Conv2D, MaxPooling2D , BatchNormalization\n",
        "from tensorflow.keras.callbacks import TensorBoard\n",
        "from matplotlib import pyplot as plt\n",
        "from skimage.morphology import extrema\n",
        "from skimage.morphology import watershed as skwater\n",
        "import tensorflow as tf\n",
        "from sklearn.model_selection import train_test_split\n",
        "from tensorflow.keras.preprocessing import image\n",
        "from sklearn.metrics import confusion_matrix,plot_confusion_matrix\n",
        "from tensorflow.keras.models import Sequential\n",
        "from tensorflow.keras.layers import Dense, Dropout, Activation, Flatten, Conv2D, MaxPooling2D , BatchNormalization\n",
        "from tensorflow.keras.callbacks import TensorBoard\n",
        "from matplotlib import pyplot as plt\n",
        "from skimage.morphology import extrema\n",
        "from skimage.morphology import watershed as skwater\n",
        "from google.colab.patches import cv2_imshow"
      ]
    },
    {
      "cell_type": "code",
      "execution_count": null,
      "metadata": {
        "colab": {
          "base_uri": "https://localhost:8080/"
        },
        "id": "9Y3IY8Gb_A4s",
        "outputId": "62f097cb-7267-4dba-ea52-1b868914a561"
      },
      "outputs": [
        {
          "name": "stdout",
          "output_type": "stream",
          "text": [
            "Mounted at /content/gdrive\n"
          ]
        }
      ],
      "source": [
        "from google.colab import drive\n",
        "drive.mount(\"/content/gdrive\")"
      ]
    },
    {
      "cell_type": "code",
      "execution_count": null,
      "metadata": {
        "id": "uwHaL64TaogL"
      },
      "outputs": [],
      "source": [
        "train = []\n",
        "val = []\n",
        "test = []\n",
        "train_lbl = []\n",
        "val_lbl = []\n",
        "test_lbl = []\n",
        "def loaddata(path,img_list,label_list, label):\n",
        "    all_images = os.listdir(path)\n",
        "    for image in tqdm(all_images):\n",
        "        img = cv2.imread(os.path.join(path, image))\n",
        "        img_list.append(img)\n",
        "        label_list.append(label)  "
      ]
    },
    {
      "cell_type": "markdown",
      "metadata": {
        "id": "mWT5XFE0-3VL"
      },
      "source": [
        "### DATA INME YOK\n"
      ]
    },
    {
      "cell_type": "code",
      "execution_count": null,
      "metadata": {
        "colab": {
          "background_save": true,
          "base_uri": "https://localhost:8080/"
        },
        "id": "i-3IX530-_O8",
        "outputId": "e905ce19-fc52-4355-a757-085351687049"
      },
      "outputs": [
        {
          "name": "stderr",
          "output_type": "stream",
          "text": [
            "100%|██████████| 3600/3600 [45:32<00:00,  1.32it/s]\n",
            "100%|██████████| 400/400 [04:53<00:00,  1.36it/s]\n",
            "100%|██████████| 1000/1000 [11:56<00:00,  1.40it/s]\n"
          ]
        }
      ],
      "source": [
        "path1 = '/content/gdrive/My Drive/TeknofestETAP1/DATA_PRO/INME_YOK/train'\n",
        "path2 = '/content/gdrive/My Drive/TeknofestETAP1/DATA_PRO/INME_YOK/val'\n",
        "path3 = '/content/gdrive/My Drive/TeknofestETAP1/DATA_PRO/INME_YOK/test'\n",
        "\n",
        "loaddata(path1,train,train_lbl,0)\n",
        "loaddata(path2,val,val_lbl,0)\n",
        "loaddata(path3,test,test_lbl,0)"
      ]
    },
    {
      "cell_type": "markdown",
      "metadata": {
        "id": "0BcHYj4G-3VL"
      },
      "source": [
        "### DATA ISKEMI"
      ]
    },
    {
      "cell_type": "code",
      "execution_count": null,
      "metadata": {
        "colab": {
          "base_uri": "https://localhost:8080/"
        },
        "id": "3mVy0VLo-3VM",
        "outputId": "fa464eec-d8de-4c57-e9ad-9ac7e9ec732d"
      },
      "outputs": [
        {
          "name": "stderr",
          "output_type": "stream",
          "text": [
            "100%|██████████| 1800/1800 [00:06<00:00, 286.32it/s]\n",
            "100%|██████████| 200/200 [00:00<00:00, 289.00it/s]\n",
            "100%|██████████| 500/500 [00:01<00:00, 289.41it/s]\n"
          ]
        }
      ],
      "source": [
        "path1 = '/content/gdrive/My Drive/TeknofestETAP1/DATA_PRO/ISKEMI/train'\n",
        "path2 = '/content/gdrive/My Drive/TeknofestETAP1/DATA_PRO/ISKEMI/val'\n",
        "path3 = '/content/gdrive/My Drive/TeknofestETAP1/DATA_PRO/ISKEMI/test'\n",
        "\n",
        "loaddata(path1,train,train_lbl,1)\n",
        "loaddata(path2,val,val_lbl,1)\n",
        "loaddata(path3,test,test_lbl,1)"
      ]
    },
    {
      "cell_type": "markdown",
      "metadata": {
        "id": "oZmf-ZAO-3VM"
      },
      "source": [
        "### DATA KANAMA"
      ]
    },
    {
      "cell_type": "code",
      "execution_count": null,
      "metadata": {
        "colab": {
          "base_uri": "https://localhost:8080/"
        },
        "id": "QSUVMXA5-3VM",
        "outputId": "0185f720-d844-46a9-c08d-6622025e8ec4"
      },
      "outputs": [
        {
          "name": "stderr",
          "output_type": "stream",
          "text": [
            "100%|██████████| 1800/1800 [11:36<00:00,  2.58it/s]\n",
            "100%|██████████| 200/200 [01:12<00:00,  2.77it/s]\n",
            "100%|██████████| 500/500 [03:08<00:00,  2.65it/s]\n"
          ]
        }
      ],
      "source": [
        "path1 = '/content/gdrive/My Drive/TeknofestETAP1/DATA_PRO/KANAMA/train'\n",
        "path2 = '/content/gdrive/My Drive/TeknofestETAP1/DATA_PRO/KANAMA/val'\n",
        "path3 = '/content/gdrive/My Drive/TeknofestETAP1/DATA_PRO/KANAMA/test'\n",
        "\n",
        "loaddata(path1,train,train_lbl,1)\n",
        "loaddata(path2,val,val_lbl,1)\n",
        "loaddata(path3,test,test_lbl,1)"
      ]
    },
    {
      "cell_type": "code",
      "execution_count": null,
      "metadata": {
        "id": "PtyPK2anbbw7"
      },
      "outputs": [],
      "source": [
        "import random\n",
        "\n",
        "def zipici(img, lbl):\n",
        "    arifk = list(zip(img, lbl))\n",
        "    random.shuffle(arifk)\n",
        "    img, lbl = zip(*arifk)\n",
        "\n",
        "    return img, lbl\n",
        "\n",
        "train, train_lbl = zipici(train, train_lbl)\n",
        "val, val_lbl = zipici(val, val_lbl)\n",
        "test, test_lbl = zipici(test, test_lbl)"
      ]
    },
    {
      "cell_type": "code",
      "execution_count": null,
      "metadata": {
        "id": "FuTqw-9zGnc-"
      },
      "outputs": [],
      "source": [
        "x_train = np.array(train)\n",
        "y_train = np.array(train_lbl)\n",
        "x_val = np.array(val)\n",
        "y_val = np.array(val_lbl)\n",
        "x_test = np.array(test)\n",
        "y_test = np.array(test_lbl)"
      ]
    },
    {
      "cell_type": "markdown",
      "metadata": {
        "id": "AJ_nI8ycjKLd"
      },
      "source": [
        "# ResNet50 MODEL"
      ]
    },
    {
      "cell_type": "code",
      "execution_count": null,
      "metadata": {
        "colab": {
          "base_uri": "https://localhost:8080/"
        },
        "id": "mcEg4hFR-3VP",
        "outputId": "7ecc1585-c57c-4ac7-a55e-7dd5e1419d18"
      },
      "outputs": [
        {
          "name": "stdout",
          "output_type": "stream",
          "text": [
            "Downloading data from https://storage.googleapis.com/tensorflow/keras-applications/resnet/resnet50_weights_tf_dim_ordering_tf_kernels_notop.h5\n",
            "94773248/94765736 [==============================] - 1s 0us/step\n"
          ]
        }
      ],
      "source": [
        "from tensorflow.keras.applications.resnet50 import ResNet50, decode_predictions, preprocess_input\n",
        "Resnet=ResNet50(include_top=False,pooling='max', weights=\"imagenet\")"
      ]
    },
    {
      "cell_type": "code",
      "execution_count": null,
      "metadata": {
        "id": "8bfogVhji7x1"
      },
      "outputs": [],
      "source": [
        "modelRes = Sequential()\n",
        "modelRes.add(Resnet)\n",
        "modelRes.add(Flatten())\n",
        "modelRes.add(Dense(512, activation='relu'))\n",
        "modelRes.add(Dropout(0.2))\n",
        "modelRes.add(Dense(256, activation='relu'))\n",
        "modelRes.add(Dropout(0.2))\n",
        "modelRes.add(Dense(128, activation='relu'))\n",
        "modelRes.add(Dropout(0.2))\n",
        "modelRes.add(Dense(64, activation='relu'))\n",
        "modelRes.add(Dropout(0.2))\n",
        "modelRes.add(Dense(32, activation='relu'))\n",
        "modelRes.add(Dropout(0.2))\n",
        "modelRes.add(Dense(1, activation='sigmoid'))\n",
        "modelRes.layers[0].trainable=False\n",
        "# Compile model \n",
        "modelRes.compile(optimizer='adam', loss='binary_crossentropy', metrics=['accuracy',\n",
        "                                                                      tf.keras.metrics.Precision(),\n",
        "                                                                      tf.keras.metrics.Recall()])"
      ]
    },
    {
      "cell_type": "code",
      "execution_count": null,
      "metadata": {
        "colab": {
          "base_uri": "https://localhost:8080/",
          "height": 337
        },
        "id": "J3D8TPUdjSnp",
        "outputId": "d22522aa-07f0-428b-ba4c-52d44c0347a3"
      },
      "outputs": [
        {
          "name": "stdout",
          "output_type": "stream",
          "text": [
            "Epoch 1/60\n",
            "153/720 [=====>........................] - ETA: 22s - loss: 0.6932 - accuracy: 0.4935 - precision: 0.4987 - recall: 0.4942"
          ]
        },
        {
          "ename": "KeyboardInterrupt",
          "evalue": "ignored",
          "output_type": "error",
          "traceback": [
            "\u001b[0;31m---------------------------------------------------------------------------\u001b[0m",
            "\u001b[0;31mKeyboardInterrupt\u001b[0m                         Traceback (most recent call last)",
            "\u001b[0;32m<ipython-input-26-fcbfec775c18>\u001b[0m in \u001b[0;36m<module>\u001b[0;34m()\u001b[0m\n\u001b[0;32m----> 1\u001b[0;31m \u001b[0mhistory\u001b[0m \u001b[0;34m=\u001b[0m \u001b[0mmodelRes\u001b[0m\u001b[0;34m.\u001b[0m\u001b[0mfit\u001b[0m\u001b[0;34m(\u001b[0m\u001b[0mx_train\u001b[0m\u001b[0;34m,\u001b[0m \u001b[0my_train\u001b[0m\u001b[0;34m,\u001b[0m \u001b[0mvalidation_data\u001b[0m\u001b[0;34m=\u001b[0m\u001b[0;34m(\u001b[0m\u001b[0mx_val\u001b[0m\u001b[0;34m,\u001b[0m \u001b[0my_val\u001b[0m\u001b[0;34m)\u001b[0m\u001b[0;34m,\u001b[0m \u001b[0mbatch_size\u001b[0m\u001b[0;34m=\u001b[0m\u001b[0;36m10\u001b[0m\u001b[0;34m,\u001b[0m \u001b[0mepochs\u001b[0m\u001b[0;34m=\u001b[0m\u001b[0;36m60\u001b[0m\u001b[0;34m)\u001b[0m\u001b[0;34m\u001b[0m\u001b[0;34m\u001b[0m\u001b[0m\n\u001b[0m",
            "\u001b[0;32m/usr/local/lib/python3.7/dist-packages/tensorflow/python/keras/engine/training.py\u001b[0m in \u001b[0;36mfit\u001b[0;34m(self, x, y, batch_size, epochs, verbose, callbacks, validation_split, validation_data, shuffle, class_weight, sample_weight, initial_epoch, steps_per_epoch, validation_steps, validation_batch_size, validation_freq, max_queue_size, workers, use_multiprocessing)\u001b[0m\n\u001b[1;32m   1181\u001b[0m                 _r=1):\n\u001b[1;32m   1182\u001b[0m               \u001b[0mcallbacks\u001b[0m\u001b[0;34m.\u001b[0m\u001b[0mon_train_batch_begin\u001b[0m\u001b[0;34m(\u001b[0m\u001b[0mstep\u001b[0m\u001b[0;34m)\u001b[0m\u001b[0;34m\u001b[0m\u001b[0;34m\u001b[0m\u001b[0m\n\u001b[0;32m-> 1183\u001b[0;31m               \u001b[0mtmp_logs\u001b[0m \u001b[0;34m=\u001b[0m \u001b[0mself\u001b[0m\u001b[0;34m.\u001b[0m\u001b[0mtrain_function\u001b[0m\u001b[0;34m(\u001b[0m\u001b[0miterator\u001b[0m\u001b[0;34m)\u001b[0m\u001b[0;34m\u001b[0m\u001b[0;34m\u001b[0m\u001b[0m\n\u001b[0m\u001b[1;32m   1184\u001b[0m               \u001b[0;32mif\u001b[0m \u001b[0mdata_handler\u001b[0m\u001b[0;34m.\u001b[0m\u001b[0mshould_sync\u001b[0m\u001b[0;34m:\u001b[0m\u001b[0;34m\u001b[0m\u001b[0;34m\u001b[0m\u001b[0m\n\u001b[1;32m   1185\u001b[0m                 \u001b[0mcontext\u001b[0m\u001b[0;34m.\u001b[0m\u001b[0masync_wait\u001b[0m\u001b[0;34m(\u001b[0m\u001b[0;34m)\u001b[0m\u001b[0;34m\u001b[0m\u001b[0;34m\u001b[0m\u001b[0m\n",
            "\u001b[0;32m/usr/local/lib/python3.7/dist-packages/tensorflow/python/eager/def_function.py\u001b[0m in \u001b[0;36m__call__\u001b[0;34m(self, *args, **kwds)\u001b[0m\n\u001b[1;32m    887\u001b[0m \u001b[0;34m\u001b[0m\u001b[0m\n\u001b[1;32m    888\u001b[0m       \u001b[0;32mwith\u001b[0m \u001b[0mOptionalXlaContext\u001b[0m\u001b[0;34m(\u001b[0m\u001b[0mself\u001b[0m\u001b[0;34m.\u001b[0m\u001b[0m_jit_compile\u001b[0m\u001b[0;34m)\u001b[0m\u001b[0;34m:\u001b[0m\u001b[0;34m\u001b[0m\u001b[0;34m\u001b[0m\u001b[0m\n\u001b[0;32m--> 889\u001b[0;31m         \u001b[0mresult\u001b[0m \u001b[0;34m=\u001b[0m \u001b[0mself\u001b[0m\u001b[0;34m.\u001b[0m\u001b[0m_call\u001b[0m\u001b[0;34m(\u001b[0m\u001b[0;34m*\u001b[0m\u001b[0margs\u001b[0m\u001b[0;34m,\u001b[0m \u001b[0;34m**\u001b[0m\u001b[0mkwds\u001b[0m\u001b[0;34m)\u001b[0m\u001b[0;34m\u001b[0m\u001b[0;34m\u001b[0m\u001b[0m\n\u001b[0m\u001b[1;32m    890\u001b[0m \u001b[0;34m\u001b[0m\u001b[0m\n\u001b[1;32m    891\u001b[0m       \u001b[0mnew_tracing_count\u001b[0m \u001b[0;34m=\u001b[0m \u001b[0mself\u001b[0m\u001b[0;34m.\u001b[0m\u001b[0mexperimental_get_tracing_count\u001b[0m\u001b[0;34m(\u001b[0m\u001b[0;34m)\u001b[0m\u001b[0;34m\u001b[0m\u001b[0;34m\u001b[0m\u001b[0m\n",
            "\u001b[0;32m/usr/local/lib/python3.7/dist-packages/tensorflow/python/eager/def_function.py\u001b[0m in \u001b[0;36m_call\u001b[0;34m(self, *args, **kwds)\u001b[0m\n\u001b[1;32m    915\u001b[0m       \u001b[0;31m# In this case we have created variables on the first call, so we run the\u001b[0m\u001b[0;34m\u001b[0m\u001b[0;34m\u001b[0m\u001b[0;34m\u001b[0m\u001b[0m\n\u001b[1;32m    916\u001b[0m       \u001b[0;31m# defunned version which is guaranteed to never create variables.\u001b[0m\u001b[0;34m\u001b[0m\u001b[0;34m\u001b[0m\u001b[0;34m\u001b[0m\u001b[0m\n\u001b[0;32m--> 917\u001b[0;31m       \u001b[0;32mreturn\u001b[0m \u001b[0mself\u001b[0m\u001b[0;34m.\u001b[0m\u001b[0m_stateless_fn\u001b[0m\u001b[0;34m(\u001b[0m\u001b[0;34m*\u001b[0m\u001b[0margs\u001b[0m\u001b[0;34m,\u001b[0m \u001b[0;34m**\u001b[0m\u001b[0mkwds\u001b[0m\u001b[0;34m)\u001b[0m  \u001b[0;31m# pylint: disable=not-callable\u001b[0m\u001b[0;34m\u001b[0m\u001b[0;34m\u001b[0m\u001b[0m\n\u001b[0m\u001b[1;32m    918\u001b[0m     \u001b[0;32melif\u001b[0m \u001b[0mself\u001b[0m\u001b[0;34m.\u001b[0m\u001b[0m_stateful_fn\u001b[0m \u001b[0;32mis\u001b[0m \u001b[0;32mnot\u001b[0m \u001b[0;32mNone\u001b[0m\u001b[0;34m:\u001b[0m\u001b[0;34m\u001b[0m\u001b[0;34m\u001b[0m\u001b[0m\n\u001b[1;32m    919\u001b[0m       \u001b[0;31m# Release the lock early so that multiple threads can perform the call\u001b[0m\u001b[0;34m\u001b[0m\u001b[0;34m\u001b[0m\u001b[0;34m\u001b[0m\u001b[0m\n",
            "\u001b[0;32m/usr/local/lib/python3.7/dist-packages/tensorflow/python/eager/function.py\u001b[0m in \u001b[0;36m__call__\u001b[0;34m(self, *args, **kwargs)\u001b[0m\n\u001b[1;32m   3022\u001b[0m        filtered_flat_args) = self._maybe_define_function(args, kwargs)\n\u001b[1;32m   3023\u001b[0m     return graph_function._call_flat(\n\u001b[0;32m-> 3024\u001b[0;31m         filtered_flat_args, captured_inputs=graph_function.captured_inputs)  # pylint: disable=protected-access\n\u001b[0m\u001b[1;32m   3025\u001b[0m \u001b[0;34m\u001b[0m\u001b[0m\n\u001b[1;32m   3026\u001b[0m   \u001b[0;34m@\u001b[0m\u001b[0mproperty\u001b[0m\u001b[0;34m\u001b[0m\u001b[0;34m\u001b[0m\u001b[0m\n",
            "\u001b[0;32m/usr/local/lib/python3.7/dist-packages/tensorflow/python/eager/function.py\u001b[0m in \u001b[0;36m_call_flat\u001b[0;34m(self, args, captured_inputs, cancellation_manager)\u001b[0m\n\u001b[1;32m   1959\u001b[0m       \u001b[0;31m# No tape is watching; skip to running the function.\u001b[0m\u001b[0;34m\u001b[0m\u001b[0;34m\u001b[0m\u001b[0;34m\u001b[0m\u001b[0m\n\u001b[1;32m   1960\u001b[0m       return self._build_call_outputs(self._inference_function.call(\n\u001b[0;32m-> 1961\u001b[0;31m           ctx, args, cancellation_manager=cancellation_manager))\n\u001b[0m\u001b[1;32m   1962\u001b[0m     forward_backward = self._select_forward_and_backward_functions(\n\u001b[1;32m   1963\u001b[0m         \u001b[0margs\u001b[0m\u001b[0;34m,\u001b[0m\u001b[0;34m\u001b[0m\u001b[0;34m\u001b[0m\u001b[0m\n",
            "\u001b[0;32m/usr/local/lib/python3.7/dist-packages/tensorflow/python/eager/function.py\u001b[0m in \u001b[0;36mcall\u001b[0;34m(self, ctx, args, cancellation_manager)\u001b[0m\n\u001b[1;32m    594\u001b[0m               \u001b[0minputs\u001b[0m\u001b[0;34m=\u001b[0m\u001b[0margs\u001b[0m\u001b[0;34m,\u001b[0m\u001b[0;34m\u001b[0m\u001b[0;34m\u001b[0m\u001b[0m\n\u001b[1;32m    595\u001b[0m               \u001b[0mattrs\u001b[0m\u001b[0;34m=\u001b[0m\u001b[0mattrs\u001b[0m\u001b[0;34m,\u001b[0m\u001b[0;34m\u001b[0m\u001b[0;34m\u001b[0m\u001b[0m\n\u001b[0;32m--> 596\u001b[0;31m               ctx=ctx)\n\u001b[0m\u001b[1;32m    597\u001b[0m         \u001b[0;32melse\u001b[0m\u001b[0;34m:\u001b[0m\u001b[0;34m\u001b[0m\u001b[0;34m\u001b[0m\u001b[0m\n\u001b[1;32m    598\u001b[0m           outputs = execute.execute_with_cancellation(\n",
            "\u001b[0;32m/usr/local/lib/python3.7/dist-packages/tensorflow/python/eager/execute.py\u001b[0m in \u001b[0;36mquick_execute\u001b[0;34m(op_name, num_outputs, inputs, attrs, ctx, name)\u001b[0m\n\u001b[1;32m     58\u001b[0m     \u001b[0mctx\u001b[0m\u001b[0;34m.\u001b[0m\u001b[0mensure_initialized\u001b[0m\u001b[0;34m(\u001b[0m\u001b[0;34m)\u001b[0m\u001b[0;34m\u001b[0m\u001b[0;34m\u001b[0m\u001b[0m\n\u001b[1;32m     59\u001b[0m     tensors = pywrap_tfe.TFE_Py_Execute(ctx._handle, device_name, op_name,\n\u001b[0;32m---> 60\u001b[0;31m                                         inputs, attrs, num_outputs)\n\u001b[0m\u001b[1;32m     61\u001b[0m   \u001b[0;32mexcept\u001b[0m \u001b[0mcore\u001b[0m\u001b[0;34m.\u001b[0m\u001b[0m_NotOkStatusException\u001b[0m \u001b[0;32mas\u001b[0m \u001b[0me\u001b[0m\u001b[0;34m:\u001b[0m\u001b[0;34m\u001b[0m\u001b[0;34m\u001b[0m\u001b[0m\n\u001b[1;32m     62\u001b[0m     \u001b[0;32mif\u001b[0m \u001b[0mname\u001b[0m \u001b[0;32mis\u001b[0m \u001b[0;32mnot\u001b[0m \u001b[0;32mNone\u001b[0m\u001b[0;34m:\u001b[0m\u001b[0;34m\u001b[0m\u001b[0;34m\u001b[0m\u001b[0m\n",
            "\u001b[0;31mKeyboardInterrupt\u001b[0m: "
          ]
        }
      ],
      "source": [
        "history = modelRes.fit(x_train, y_train, validation_data=(x_val, y_val), batch_size=10, epochs=60)"
      ]
    },
    {
      "cell_type": "code",
      "execution_count": null,
      "metadata": {
        "colab": {
          "base_uri": "https://localhost:8080/"
        },
        "id": "-hvd2LT_-3VQ",
        "outputId": "f3cd8291-eeb2-4bf6-ce50-143e2697112c"
      },
      "outputs": [
        {
          "name": "stdout",
          "output_type": "stream",
          "text": [
            "11/11 [==============================] - 2s 151ms/step - loss: 0.5548 - accuracy: 0.9099 - precision: 0.9348 - recall: 0.7818\n",
            "Test loss: 0.5548179745674133\n",
            "Test accuracy: 0.9099099040031433\n"
          ]
        }
      ],
      "source": [
        "scores = modelRes.evaluate(X_test, y_test, verbose=1)\n",
        "print('Test loss:', scores[0])\n",
        "print('Test accuracy:', scores[1])"
      ]
    },
    {
      "cell_type": "code",
      "execution_count": null,
      "metadata": {
        "colab": {
          "base_uri": "https://localhost:8080/"
        },
        "id": "veCF9EEZ-3VQ",
        "outputId": "75252872-a9a0-4836-f16b-25dff381fbf9"
      },
      "outputs": [
        {
          "name": "stderr",
          "output_type": "stream",
          "text": [
            "/usr/local/lib/python3.7/dist-packages/tensorflow/python/keras/utils/generic_utils.py:497: CustomMaskWarning: Custom mask layers require a config and must override get_config. When loading, the custom mask layer must be passed to the custom_objects argument.\n",
            "  category=CustomMaskWarning)\n"
          ]
        }
      ],
      "source": [
        "#PATH DEĞİŞTİR HER EĞİTİMDEN SONRA !!!!!!!!!!!!!!!!!!!!\n",
        "modelRes.save('/content/gdrive/My Drive/TeknofestETAP1/Weights/ResNet/resnet_yes_yes.h5') \n",
        "\n",
        "#  LOAD MODEL\n",
        "#model1 = load_model('brain_tumor_vgg16.h5')"
      ]
    },
    {
      "cell_type": "code",
      "execution_count": null,
      "metadata": {
        "id": "tuKY4le5-3VR"
      },
      "outputs": [],
      "source": [
        "ynew = modelRes.predict_classes(X_test)\n",
        "count = 0\n",
        "index = 0\n",
        "for img in X_test[100:150]:\n",
        "    plt.figure()\n",
        "    plt.title(ynew[index])\n",
        "    plt.xlabel(y_test[index])\n",
        "    plt.imshow(img)\n",
        "    index = index +1"
      ]
    }
  ],
  "metadata": {
    "accelerator": "GPU",
    "colab": {
      "provenance": []
    },
    "kernelspec": {
      "display_name": "Python 3",
      "language": "python",
      "name": "python3"
    },
    "language_info": {
      "codemirror_mode": {
        "name": "ipython",
        "version": 3
      },
      "file_extension": ".py",
      "mimetype": "text/x-python",
      "name": "python",
      "nbconvert_exporter": "python",
      "pygments_lexer": "ipython3",
      "version": "3.7.9"
    }
  },
  "nbformat": 4,
  "nbformat_minor": 0
}