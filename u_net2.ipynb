{
  "nbformat": 4,
  "nbformat_minor": 0,
  "metadata": {
    "kernelspec": {
      "display_name": "Python 3",
      "language": "python",
      "name": "python3"
    },
    "language_info": {
      "codemirror_mode": {
        "name": "ipython",
        "version": 3
      },
      "file_extension": ".py",
      "mimetype": "text/x-python",
      "name": "python",
      "nbconvert_exporter": "python",
      "pygments_lexer": "ipython3",
      "version": "3.6.13"
    },
    "colab": {
      "provenance": []
    }
  },
  "cells": [
    {
      "cell_type": "code",
      "metadata": {
        "colab": {
          "base_uri": "https://localhost:8080/"
        },
        "id": "DZTk7Usp9Cpb",
        "outputId": "f9abd64f-7708-4227-fbae-1c135c5caedf"
      },
      "source": [
        "!pip install MedPy"
      ],
      "execution_count": null,
      "outputs": [
        {
          "output_type": "stream",
          "text": [
            "Collecting MedPy\n",
            "\u001b[?25l  Downloading https://files.pythonhosted.org/packages/3b/70/c1fd5dd60242eee81774696ea7ba4caafac2bad8f028bba94b1af83777d7/MedPy-0.4.0.tar.gz (151kB)\n",
            "\u001b[K     |████████████████████████████████| 153kB 4.0MB/s \n",
            "\u001b[?25hRequirement already satisfied: scipy>=1.1.0 in /usr/local/lib/python3.7/dist-packages (from MedPy) (1.4.1)\n",
            "Requirement already satisfied: numpy>=1.11.0 in /usr/local/lib/python3.7/dist-packages (from MedPy) (1.19.5)\n",
            "Collecting SimpleITK>=1.1.0\n",
            "\u001b[?25l  Downloading https://files.pythonhosted.org/packages/9c/6b/85df5eb3a8059b23a53a9f224476e75473f9bcc0a8583ed1a9c34619f372/SimpleITK-2.0.2-cp37-cp37m-manylinux2010_x86_64.whl (47.4MB)\n",
            "\u001b[K     |████████████████████████████████| 47.4MB 91kB/s \n",
            "\u001b[?25hBuilding wheels for collected packages: MedPy\n",
            "  Building wheel for MedPy (setup.py) ... \u001b[?25l\u001b[?25hdone\n",
            "  Created wheel for MedPy: filename=MedPy-0.4.0-cp37-cp37m-linux_x86_64.whl size=754457 sha256=9b7e18c60bcccf074735172834fa1ca0ba225233f440a70bb24fa0248aeda518\n",
            "  Stored in directory: /root/.cache/pip/wheels/8c/c9/9c/2c6281c7a72b9fb1570862a4f028af7ce38405008354fbf870\n",
            "Successfully built MedPy\n",
            "Installing collected packages: SimpleITK, MedPy\n",
            "Successfully installed MedPy-0.4.0 SimpleITK-2.0.2\n"
          ],
          "name": "stdout"
        }
      ]
    },
    {
      "cell_type": "code",
      "metadata": {
        "id": "CJKk-z9185tJ"
      },
      "source": [
        "import random\n",
        "import pandas as pd\n",
        "import numpy as np\n",
        "import matplotlib.pyplot as plt\n",
        "#%matplotlib inline\n",
        "import tensorflow as tf\n",
        "import keras.backend as K\n",
        "\n",
        "from keras import metrics\n",
        "from keras.models import Model, load_model\n",
        "from keras.layers import Input, BatchNormalization, Activation, Dense, Dropout,Maximum\n",
        "from keras.layers.core import Lambda, RepeatVector, Reshape\n",
        "from keras.layers.convolutional import Conv2D, Conv2DTranspose,Conv3D,Conv3DTranspose\n",
        "from keras.layers.pooling import MaxPooling2D, GlobalMaxPool2D,MaxPooling3D\n",
        "from keras.layers.merge import concatenate, add\n",
        "from keras.callbacks import EarlyStopping, ModelCheckpoint, ReduceLROnPlateau\n",
        "from keras.optimizers import Adam\n",
        "from keras.preprocessing.image import ImageDataGenerator, array_to_img, img_to_array, load_img\n",
        "\n",
        "from skimage.io import imread, imshow, concatenate_images\n",
        "from skimage.transform import resize\n",
        "from sklearn.utils import class_weight\n",
        "from keras.callbacks import ModelCheckpoint\n",
        "from keras.callbacks import CSVLogger\n",
        "from keras.callbacks import EarlyStopping\n",
        "\n",
        "import os\n",
        "from skimage.io import imread, imshow, concatenate_images\n",
        "from skimage.transform import resize\n",
        "from medpy.io import load\n",
        "import numpy as np\n",
        "\n",
        "#import cv2\n",
        "import nibabel as nib\n",
        "from PIL import Image"
      ],
      "execution_count": null,
      "outputs": []
    },
    {
      "cell_type": "code",
      "metadata": {
        "colab": {
          "base_uri": "https://localhost:8080/"
        },
        "id": "Yi0leAqV85tL",
        "outputId": "f647713a-5c99-488a-c6ad-76a1b48a95f4"
      },
      "source": [
        "tf.test.is_gpu_available(\n",
        "    cuda_only=False, min_cuda_compute_capability=None\n",
        ")"
      ],
      "execution_count": null,
      "outputs": [
        {
          "output_type": "execute_result",
          "data": {
            "text/plain": [
              "False"
            ]
          },
          "metadata": {
            "tags": []
          },
          "execution_count": 6
        }
      ]
    },
    {
      "cell_type": "code",
      "metadata": {
        "id": "qBxgsSmz85tM"
      },
      "source": [
        "def conv_block(input_mat,num_filters,kernel_size,batch_norm):\n",
        "    X = Conv2D(num_filters,kernel_size=(kernel_size,kernel_size),strides=(1,1),padding='same')(input_mat)\n",
        "    if batch_norm:\n",
        "        X = BatchNormalization()(X)\n",
        "  \n",
        "    X = Activation('relu')(X)\n",
        "\n",
        "    X = Conv2D(num_filters,kernel_size=(kernel_size,kernel_size),strides=(1,1),padding='same')(X)\n",
        "    if batch_norm:\n",
        "        X = BatchNormalization()(X)\n",
        "  \n",
        "    X = Activation('relu')(X)\n",
        "    return X\n",
        "    \n",
        "\n",
        "\n",
        "def Unet(input_img, n_filters = 16, dropout = 0.2, batch_norm = True):\n",
        "\n",
        "    c1 = conv_block(input_img,n_filters,3,batch_norm)\n",
        "    p1 = MaxPooling2D(pool_size=(2, 2), strides=2)(c1)\n",
        "    p1 = Dropout(dropout)(p1)\n",
        "  \n",
        "    c2 = conv_block(p1,n_filters*2,3,batch_norm)\n",
        "    p2 = MaxPooling2D(pool_size=(2,2) ,strides=2)(c2)\n",
        "    p2 = Dropout(dropout)(p2)\n",
        "\n",
        "    c3 = conv_block(p2,n_filters*4,3,batch_norm)\n",
        "    p3 = MaxPooling2D(pool_size=(2,2) ,strides=2)(c3)\n",
        "    p3 = Dropout(dropout)(p3)\n",
        "  \n",
        "    c4 = conv_block(p3,n_filters*8,3,batch_norm)\n",
        "    p4 = MaxPooling2D(pool_size=(2,2) ,strides=2)(c4)\n",
        "    p4 = Dropout(dropout)(p4)\n",
        "  \n",
        "    c5 = conv_block(p4,n_filters*16,3,batch_norm)\n",
        "\n",
        "    u6 = Conv2DTranspose(n_filters*8, (3,3), strides=(2, 2), padding='same')(c5)\n",
        "    u6 = concatenate([u6,c4])\n",
        "    c6 = conv_block(u6,n_filters*8,3,batch_norm)\n",
        "    c6 = Dropout(dropout)(c6)\n",
        "    u7 = Conv2DTranspose(n_filters*4,(3,3),strides = (2,2) , padding= 'same')(c6)\n",
        "\n",
        "    u7 = concatenate([u7,c3])\n",
        "    c7 = conv_block(u7,n_filters*4,3,batch_norm)\n",
        "    c7 = Dropout(dropout)(c7)\n",
        "    u8 = Conv2DTranspose(n_filters*2,(3,3),strides = (2,2) , padding='same')(c7)\n",
        "    u8 = concatenate([u8,c2])\n",
        "\n",
        "    c8 = conv_block(u8,n_filters*2,3,batch_norm)\n",
        "    c8 = Dropout(dropout)(c8)\n",
        "    u9 = Conv2DTranspose(n_filters,(3,3),strides = (2,2) , padding='same')(c8)\n",
        "\n",
        "    u9 = concatenate([u9,c1])\n",
        "\n",
        "    c9 = conv_block(u9,n_filters,3,batch_norm)\n",
        "    outputs = Conv2D(1, (1, 1), activation='sigmoid')(c9)\n",
        "\n",
        "    model = Model(inputs=input_img, outputs=outputs)\n",
        "\n",
        "    return model"
      ],
      "execution_count": null,
      "outputs": []
    },
    {
      "cell_type": "code",
      "metadata": {
        "id": "YINqoNHE85tM"
      },
      "source": [
        "def dice_coef(y_true, y_pred, epsilon=0.00001):\n",
        "    \"\"\"\n",
        "    Dice = (2*|X & Y|)/ (|X|+ |Y|)\n",
        "         =  2*sum(|A*B|)/(sum(A^2)+sum(B^2))\n",
        "    ref: https://arxiv.org/pdf/1606.04797v1.pdf\n",
        "    \n",
        "    \"\"\"\n",
        "    axis = (0,1,2,3)\n",
        "    dice_numerator = 2. * K.sum(y_true * y_pred, axis=axis) + epsilon\n",
        "    dice_denominator = K.sum(y_true*y_true, axis=axis) + K.sum(y_pred*y_pred, axis=axis) + epsilon\n",
        "    return K.mean((dice_numerator)/(dice_denominator))\n",
        "\n",
        "def dice_coef_loss(y_true, y_pred):\n",
        "    return 1-dice_coef(y_true, y_pred)\n",
        "\n",
        "def standardize(image):\n",
        "\n",
        "    standardized_image = np.zeros(image.shape)\n",
        "\n",
        "    #\n",
        "    \n",
        "        # iterate over the `z` dimension\n",
        "    for z in range(image.shape[2]):\n",
        "        # get a slice of the image \n",
        "        # at channel c and z-th dimension `z`\n",
        "        image_slice = image[:,:,z]\n",
        "\n",
        "        # subtract the mean from image_slice\n",
        "        centered = image_slice - np.mean(image_slice)\n",
        "        \n",
        "        # divide by the standard deviation (only if it is different from zero)\n",
        "        if(np.std(centered)!=0):\n",
        "            centered = centered/np.std(centered) \n",
        "\n",
        "        # update  the slice of standardized image\n",
        "        # with the scaled centered and scaled image\n",
        "        standardized_image[:, :, z] = centered\n",
        "\n",
        "    ### END CODE HERE ###\n",
        "\n",
        "    return standardized_image"
      ],
      "execution_count": null,
      "outputs": []
    },
    {
      "cell_type": "code",
      "metadata": {
        "colab": {
          "base_uri": "https://localhost:8080/"
        },
        "id": "ZKFxS7U_85tN",
        "outputId": "fe5d8c3c-9a40-4a3e-d2b7-7ba9a55c21c2"
      },
      "source": [
        "input_img = Input((240, 240, 1))\n",
        "model = Unet(input_img,16,0.1,True)\n",
        "learning_rate = 0.001\n",
        "epochs = 5000\n",
        "decay_rate = learning_rate / epochs\n",
        "model.compile(optimizer=Adam(lr=learning_rate, decay = decay_rate), loss=dice_coef_loss, metrics=[dice_coef])\n",
        "model.summary()"
      ],
      "execution_count": null,
      "outputs": [
        {
          "output_type": "stream",
          "text": [
            "Model: \"model\"\n",
            "__________________________________________________________________________________________________\n",
            "Layer (type)                    Output Shape         Param #     Connected to                     \n",
            "==================================================================================================\n",
            "input_1 (InputLayer)            [(None, 240, 240, 1) 0                                            \n",
            "__________________________________________________________________________________________________\n",
            "conv2d (Conv2D)                 (None, 240, 240, 16) 160         input_1[0][0]                    \n",
            "__________________________________________________________________________________________________\n",
            "batch_normalization (BatchNorma (None, 240, 240, 16) 64          conv2d[0][0]                     \n",
            "__________________________________________________________________________________________________\n",
            "activation (Activation)         (None, 240, 240, 16) 0           batch_normalization[0][0]        \n",
            "__________________________________________________________________________________________________\n",
            "conv2d_1 (Conv2D)               (None, 240, 240, 16) 2320        activation[0][0]                 \n",
            "__________________________________________________________________________________________________\n",
            "batch_normalization_1 (BatchNor (None, 240, 240, 16) 64          conv2d_1[0][0]                   \n",
            "__________________________________________________________________________________________________\n",
            "activation_1 (Activation)       (None, 240, 240, 16) 0           batch_normalization_1[0][0]      \n",
            "__________________________________________________________________________________________________\n",
            "max_pooling2d (MaxPooling2D)    (None, 120, 120, 16) 0           activation_1[0][0]               \n",
            "__________________________________________________________________________________________________\n",
            "dropout (Dropout)               (None, 120, 120, 16) 0           max_pooling2d[0][0]              \n",
            "__________________________________________________________________________________________________\n",
            "conv2d_2 (Conv2D)               (None, 120, 120, 32) 4640        dropout[0][0]                    \n",
            "__________________________________________________________________________________________________\n",
            "batch_normalization_2 (BatchNor (None, 120, 120, 32) 128         conv2d_2[0][0]                   \n",
            "__________________________________________________________________________________________________\n",
            "activation_2 (Activation)       (None, 120, 120, 32) 0           batch_normalization_2[0][0]      \n",
            "__________________________________________________________________________________________________\n",
            "conv2d_3 (Conv2D)               (None, 120, 120, 32) 9248        activation_2[0][0]               \n",
            "__________________________________________________________________________________________________\n",
            "batch_normalization_3 (BatchNor (None, 120, 120, 32) 128         conv2d_3[0][0]                   \n",
            "__________________________________________________________________________________________________\n",
            "activation_3 (Activation)       (None, 120, 120, 32) 0           batch_normalization_3[0][0]      \n",
            "__________________________________________________________________________________________________\n",
            "max_pooling2d_1 (MaxPooling2D)  (None, 60, 60, 32)   0           activation_3[0][0]               \n",
            "__________________________________________________________________________________________________\n",
            "dropout_1 (Dropout)             (None, 60, 60, 32)   0           max_pooling2d_1[0][0]            \n",
            "__________________________________________________________________________________________________\n",
            "conv2d_4 (Conv2D)               (None, 60, 60, 64)   18496       dropout_1[0][0]                  \n",
            "__________________________________________________________________________________________________\n",
            "batch_normalization_4 (BatchNor (None, 60, 60, 64)   256         conv2d_4[0][0]                   \n",
            "__________________________________________________________________________________________________\n",
            "activation_4 (Activation)       (None, 60, 60, 64)   0           batch_normalization_4[0][0]      \n",
            "__________________________________________________________________________________________________\n",
            "conv2d_5 (Conv2D)               (None, 60, 60, 64)   36928       activation_4[0][0]               \n",
            "__________________________________________________________________________________________________\n",
            "batch_normalization_5 (BatchNor (None, 60, 60, 64)   256         conv2d_5[0][0]                   \n",
            "__________________________________________________________________________________________________\n",
            "activation_5 (Activation)       (None, 60, 60, 64)   0           batch_normalization_5[0][0]      \n",
            "__________________________________________________________________________________________________\n",
            "max_pooling2d_2 (MaxPooling2D)  (None, 30, 30, 64)   0           activation_5[0][0]               \n",
            "__________________________________________________________________________________________________\n",
            "dropout_2 (Dropout)             (None, 30, 30, 64)   0           max_pooling2d_2[0][0]            \n",
            "__________________________________________________________________________________________________\n",
            "conv2d_6 (Conv2D)               (None, 30, 30, 128)  73856       dropout_2[0][0]                  \n",
            "__________________________________________________________________________________________________\n",
            "batch_normalization_6 (BatchNor (None, 30, 30, 128)  512         conv2d_6[0][0]                   \n",
            "__________________________________________________________________________________________________\n",
            "activation_6 (Activation)       (None, 30, 30, 128)  0           batch_normalization_6[0][0]      \n",
            "__________________________________________________________________________________________________\n",
            "conv2d_7 (Conv2D)               (None, 30, 30, 128)  147584      activation_6[0][0]               \n",
            "__________________________________________________________________________________________________\n",
            "batch_normalization_7 (BatchNor (None, 30, 30, 128)  512         conv2d_7[0][0]                   \n",
            "__________________________________________________________________________________________________\n",
            "activation_7 (Activation)       (None, 30, 30, 128)  0           batch_normalization_7[0][0]      \n",
            "__________________________________________________________________________________________________\n",
            "max_pooling2d_3 (MaxPooling2D)  (None, 15, 15, 128)  0           activation_7[0][0]               \n",
            "__________________________________________________________________________________________________\n",
            "dropout_3 (Dropout)             (None, 15, 15, 128)  0           max_pooling2d_3[0][0]            \n",
            "__________________________________________________________________________________________________\n",
            "conv2d_8 (Conv2D)               (None, 15, 15, 256)  295168      dropout_3[0][0]                  \n",
            "__________________________________________________________________________________________________\n",
            "batch_normalization_8 (BatchNor (None, 15, 15, 256)  1024        conv2d_8[0][0]                   \n",
            "__________________________________________________________________________________________________\n",
            "activation_8 (Activation)       (None, 15, 15, 256)  0           batch_normalization_8[0][0]      \n",
            "__________________________________________________________________________________________________\n",
            "conv2d_9 (Conv2D)               (None, 15, 15, 256)  590080      activation_8[0][0]               \n",
            "__________________________________________________________________________________________________\n",
            "batch_normalization_9 (BatchNor (None, 15, 15, 256)  1024        conv2d_9[0][0]                   \n",
            "__________________________________________________________________________________________________\n",
            "activation_9 (Activation)       (None, 15, 15, 256)  0           batch_normalization_9[0][0]      \n",
            "__________________________________________________________________________________________________\n",
            "conv2d_transpose (Conv2DTranspo (None, 30, 30, 128)  295040      activation_9[0][0]               \n",
            "__________________________________________________________________________________________________\n",
            "concatenate (Concatenate)       (None, 30, 30, 256)  0           conv2d_transpose[0][0]           \n",
            "                                                                 activation_7[0][0]               \n",
            "__________________________________________________________________________________________________\n",
            "conv2d_10 (Conv2D)              (None, 30, 30, 128)  295040      concatenate[0][0]                \n",
            "__________________________________________________________________________________________________\n",
            "batch_normalization_10 (BatchNo (None, 30, 30, 128)  512         conv2d_10[0][0]                  \n",
            "__________________________________________________________________________________________________\n",
            "activation_10 (Activation)      (None, 30, 30, 128)  0           batch_normalization_10[0][0]     \n",
            "__________________________________________________________________________________________________\n",
            "conv2d_11 (Conv2D)              (None, 30, 30, 128)  147584      activation_10[0][0]              \n",
            "__________________________________________________________________________________________________\n",
            "batch_normalization_11 (BatchNo (None, 30, 30, 128)  512         conv2d_11[0][0]                  \n",
            "__________________________________________________________________________________________________\n",
            "activation_11 (Activation)      (None, 30, 30, 128)  0           batch_normalization_11[0][0]     \n",
            "__________________________________________________________________________________________________\n",
            "dropout_4 (Dropout)             (None, 30, 30, 128)  0           activation_11[0][0]              \n",
            "__________________________________________________________________________________________________\n",
            "conv2d_transpose_1 (Conv2DTrans (None, 60, 60, 64)   73792       dropout_4[0][0]                  \n",
            "__________________________________________________________________________________________________\n",
            "concatenate_1 (Concatenate)     (None, 60, 60, 128)  0           conv2d_transpose_1[0][0]         \n",
            "                                                                 activation_5[0][0]               \n",
            "__________________________________________________________________________________________________\n",
            "conv2d_12 (Conv2D)              (None, 60, 60, 64)   73792       concatenate_1[0][0]              \n",
            "__________________________________________________________________________________________________\n",
            "batch_normalization_12 (BatchNo (None, 60, 60, 64)   256         conv2d_12[0][0]                  \n",
            "__________________________________________________________________________________________________\n",
            "activation_12 (Activation)      (None, 60, 60, 64)   0           batch_normalization_12[0][0]     \n",
            "__________________________________________________________________________________________________\n",
            "conv2d_13 (Conv2D)              (None, 60, 60, 64)   36928       activation_12[0][0]              \n",
            "__________________________________________________________________________________________________\n",
            "batch_normalization_13 (BatchNo (None, 60, 60, 64)   256         conv2d_13[0][0]                  \n",
            "__________________________________________________________________________________________________\n",
            "activation_13 (Activation)      (None, 60, 60, 64)   0           batch_normalization_13[0][0]     \n",
            "__________________________________________________________________________________________________\n",
            "dropout_5 (Dropout)             (None, 60, 60, 64)   0           activation_13[0][0]              \n",
            "__________________________________________________________________________________________________\n",
            "conv2d_transpose_2 (Conv2DTrans (None, 120, 120, 32) 18464       dropout_5[0][0]                  \n",
            "__________________________________________________________________________________________________\n",
            "concatenate_2 (Concatenate)     (None, 120, 120, 64) 0           conv2d_transpose_2[0][0]         \n",
            "                                                                 activation_3[0][0]               \n",
            "__________________________________________________________________________________________________\n",
            "conv2d_14 (Conv2D)              (None, 120, 120, 32) 18464       concatenate_2[0][0]              \n",
            "__________________________________________________________________________________________________\n",
            "batch_normalization_14 (BatchNo (None, 120, 120, 32) 128         conv2d_14[0][0]                  \n",
            "__________________________________________________________________________________________________\n",
            "activation_14 (Activation)      (None, 120, 120, 32) 0           batch_normalization_14[0][0]     \n",
            "__________________________________________________________________________________________________\n",
            "conv2d_15 (Conv2D)              (None, 120, 120, 32) 9248        activation_14[0][0]              \n",
            "__________________________________________________________________________________________________\n",
            "batch_normalization_15 (BatchNo (None, 120, 120, 32) 128         conv2d_15[0][0]                  \n",
            "__________________________________________________________________________________________________\n",
            "activation_15 (Activation)      (None, 120, 120, 32) 0           batch_normalization_15[0][0]     \n",
            "__________________________________________________________________________________________________\n",
            "dropout_6 (Dropout)             (None, 120, 120, 32) 0           activation_15[0][0]              \n",
            "__________________________________________________________________________________________________\n",
            "conv2d_transpose_3 (Conv2DTrans (None, 240, 240, 16) 4624        dropout_6[0][0]                  \n",
            "__________________________________________________________________________________________________\n",
            "concatenate_3 (Concatenate)     (None, 240, 240, 32) 0           conv2d_transpose_3[0][0]         \n",
            "                                                                 activation_1[0][0]               \n",
            "__________________________________________________________________________________________________\n",
            "conv2d_16 (Conv2D)              (None, 240, 240, 16) 4624        concatenate_3[0][0]              \n",
            "__________________________________________________________________________________________________\n",
            "batch_normalization_16 (BatchNo (None, 240, 240, 16) 64          conv2d_16[0][0]                  \n",
            "__________________________________________________________________________________________________\n",
            "activation_16 (Activation)      (None, 240, 240, 16) 0           batch_normalization_16[0][0]     \n",
            "__________________________________________________________________________________________________\n",
            "conv2d_17 (Conv2D)              (None, 240, 240, 16) 2320        activation_16[0][0]              \n",
            "__________________________________________________________________________________________________\n",
            "batch_normalization_17 (BatchNo (None, 240, 240, 16) 64          conv2d_17[0][0]                  \n",
            "__________________________________________________________________________________________________\n",
            "activation_17 (Activation)      (None, 240, 240, 16) 0           batch_normalization_17[0][0]     \n",
            "__________________________________________________________________________________________________\n",
            "conv2d_18 (Conv2D)              (None, 240, 240, 1)  17          activation_17[0][0]              \n",
            "==================================================================================================\n",
            "Total params: 2,164,305\n",
            "Trainable params: 2,161,361\n",
            "Non-trainable params: 2,944\n",
            "__________________________________________________________________________________________________\n"
          ],
          "name": "stdout"
        }
      ]
    },
    {
      "cell_type": "code",
      "metadata": {
        "id": "49znT9hd9gAi"
      },
      "source": [],
      "execution_count": null,
      "outputs": []
    },
    {
      "cell_type": "code",
      "metadata": {
        "id": "qE1ov1zU85tN",
        "outputId": "47bf4623-cce2-4606-abd3-12beaf1be665"
      },
      "source": [
        "path = 'MICCAI_BraTS2020_TrainingData/MICCAI_BraTS2020_TrainingData'\n",
        "all_images = os.listdir(path)\n",
        "all_images.sort()\n",
        "data = np.zeros((240,240,155,4))\n",
        "x_to = []\n",
        "y_to = []\n",
        "\n",
        "for i in range(len(all_images)):\n",
        "    x = all_images[i]\n",
        "    #print(x)\n",
        "    folder_path = path + '/' + x;\n",
        "    #print(folder_path)\n",
        "    modalities = os.listdir(folder_path)\n",
        "    modalities.sort()\n",
        "      #data = []\n",
        "    for j in range(len(modalities)-1):\n",
        "    #print(modalities[j])\n",
        "    \n",
        "        image_path = folder_path + '/' + modalities[j]\n",
        "        #print(image_path)\n",
        "        if(image_path[-10:-1] + image_path[-1] == 'seg.nii.gz'):\n",
        "            img = nib.load(image_path);\n",
        "            image_data2 = img.get_data()\n",
        "            image_data2 = np.asarray(image_data2)\n",
        "            #print(\"Entered ground truth\")\n",
        "        if(image_path[-12:-1] + image_path[-1] == 'flair.nii.gz'):\n",
        "            img = nib.load(image_path);\n",
        "            image_data = img.get_data()\n",
        "            image_data = np.asarray(image_data)\n",
        "            image_data = standardize(image_data)\n",
        "    \n",
        "    #print(data.shape)\n",
        "    #print(image_data2.shape)  \n",
        "\n",
        "    \n",
        "    for slice_no in range(90,110):\n",
        "        a = slice_no\n",
        "        X = image_data[:,:,slice_no]\n",
        "        #print(a)\n",
        "        Y = image_data2[:,:,slice_no]\n",
        "    # imgplot = plt.imshow(X[:,:,2])\n",
        "    # plt.show(block=False)\n",
        "    # plt.pause(0.3)\n",
        "    # plt.close()\n",
        "  \n",
        "    # imgplot = plt.imshow(Y)\n",
        "    # plt.show(block=False)\n",
        "    # plt.pause(0.3)\n",
        "    # plt.close()\n",
        "\n",
        "        if(X.any()!=0 and Y.any()!=0 and len(np.unique(Y)) == 4):\n",
        "          #print(slice_no)\n",
        "            x_to.append(X.reshape(240,240,1))\n",
        "            y_to.append(Y.reshape(240,240,1))\n",
        "x_to = np.asarray(x_to)\n",
        "y_to = np.asarray(y_to)        "
      ],
      "execution_count": null,
      "outputs": [
        {
          "output_type": "stream",
          "text": [
            "C:\\Users\\Ayberk\\anaconda3\\envs\\tff\\lib\\site-packages\\ipykernel_launcher.py:28: DeprecationWarning: get_data() is deprecated in favor of get_fdata(), which has a more predictable return type. To obtain get_data() behavior going forward, use numpy.asanyarray(img.dataobj).\n",
            "\n",
            "* deprecated from version: 3.0\n",
            "* Will raise <class 'nibabel.deprecator.ExpiredDeprecationError'> as of version: 5.0\n",
            "C:\\Users\\Ayberk\\anaconda3\\envs\\tff\\lib\\site-packages\\ipykernel_launcher.py:23: DeprecationWarning: get_data() is deprecated in favor of get_fdata(), which has a more predictable return type. To obtain get_data() behavior going forward, use numpy.asanyarray(img.dataobj).\n",
            "\n",
            "* deprecated from version: 3.0\n",
            "* Will raise <class 'nibabel.deprecator.ExpiredDeprecationError'> as of version: 5.0\n"
          ],
          "name": "stderr"
        }
      ]
    },
    {
      "cell_type": "code",
      "metadata": {
        "id": "y01p5rvG85tO",
        "outputId": "53b90465-0512-434d-9372-c22d4ce94406"
      },
      "source": [
        "x_to = np.asarray(x_to).astype(\"float64\")\n",
        "y_to = np.asarray(y_to).astype(\"float64\")\n",
        "print(x_to.shape)\n",
        "print(y_to.shape)"
      ],
      "execution_count": null,
      "outputs": [
        {
          "output_type": "stream",
          "text": [
            "(2981, 240, 240, 1)\n",
            "(2981, 240, 240, 1)\n"
          ],
          "name": "stdout"
        }
      ]
    },
    {
      "cell_type": "code",
      "metadata": {
        "id": "3zhoWfik85tO",
        "outputId": "9126cfa1-db6d-4855-f855-139c4746e308"
      },
      "source": [
        "plt.imshow(x_to[60] , cmap = \"gray\")"
      ],
      "execution_count": null,
      "outputs": [
        {
          "output_type": "execute_result",
          "data": {
            "text/plain": [
              "<matplotlib.image.AxesImage at 0x216fbdd51d0>"
            ]
          },
          "metadata": {
            "tags": []
          },
          "execution_count": 267
        },
        {
          "output_type": "display_data",
          "data": {
            "image/png": "[encoded data removed]",
            "text/plain": [
              "<Figure size 432x288 with 1 Axes>"
            ]
          },
          "metadata": {
            "tags": [],
            "needs_background": "light"
          }
        }
      ]
    },
    {
      "cell_type": "code",
      "metadata": {
        "id": "4WudMb9H85tP",
        "outputId": "e130b338-a9cf-498c-ae25-42543e399b8a"
      },
      "source": [
        "plt.imshow(y_to[40], cmap = \"gray\")"
      ],
      "execution_count": null,
      "outputs": [
        {
          "output_type": "execute_result",
          "data": {
            "text/plain": [
              "<matplotlib.image.AxesImage at 0x216fb73f0f0>"
            ]
          },
          "metadata": {
            "tags": []
          },
          "execution_count": 257
        },
        {
          "output_type": "display_data",
          "data": {
            "image/png": "[encoded data removed]",
            "text/plain": [
              "<Figure size 432x288 with 1 Axes>"
            ]
          },
          "metadata": {
            "tags": [],
            "needs_background": "light"
          }
        }
      ]
    },
    {
      "cell_type": "code",
      "metadata": {
        "id": "I0uSN2D_85tP",
        "outputId": "b9c5c94b-4d84-4465-cd02-2848860d0a14"
      },
      "source": [
        "model.fit(x=x_to, y=y_to, batch_size=20, epochs=10)"
      ],
      "execution_count": null,
      "outputs": [
        {
          "output_type": "stream",
          "text": [
            "Epoch 1/10\n",
            "2981/2981 [==============================] - 126s 42ms/step - loss: 0.4814 - dice_coef: 0.5184\n",
            "Epoch 2/10\n",
            "2981/2981 [==============================] - 120s 40ms/step - loss: 0.4223 - dice_coef: 0.5777\n",
            "Epoch 3/10\n",
            "2981/2981 [==============================] - 119s 40ms/step - loss: 0.4086 - dice_coef: 0.5913\n",
            "Epoch 4/10\n",
            "2981/2981 [==============================] - 119s 40ms/step - loss: 0.4078 - dice_coef: 0.5918\n",
            "Epoch 5/10\n",
            "2981/2981 [==============================] - 118s 40ms/step - loss: 0.4036 - dice_coef: 0.5962\n",
            "Epoch 6/10\n",
            "2981/2981 [==============================] - 120s 40ms/step - loss: 0.3992 - dice_coef: 0.6023\n",
            "Epoch 7/10\n",
            "2981/2981 [==============================] - 120s 40ms/step - loss: 0.3981 - dice_coef: 0.6020\n",
            "Epoch 8/10\n",
            "2981/2981 [==============================] - 118s 40ms/step - loss: 0.3959 - dice_coef: 0.6045\n",
            "Epoch 9/10\n",
            "2981/2981 [==============================] - 118s 40ms/step - loss: 0.3945 - dice_coef: 0.6065\n",
            "Epoch 10/10\n",
            "2981/2981 [==============================] - 118s 40ms/step - loss: 0.3948 - dice_coef: 0.6049\n"
          ],
          "name": "stdout"
        },
        {
          "output_type": "execute_result",
          "data": {
            "text/plain": [
              "<keras.callbacks.callbacks.History at 0x216fbde0c18>"
            ]
          },
          "metadata": {
            "tags": []
          },
          "execution_count": 272
        }
      ]
    },
    {
      "cell_type": "code",
      "metadata": {
        "id": "Pcq6nJk385tP",
        "outputId": "9f1a5bad-38af-49ee-87c8-ea5b261a09cd"
      },
      "source": [
        "x_to[0].shape"
      ],
      "execution_count": null,
      "outputs": [
        {
          "output_type": "execute_result",
          "data": {
            "text/plain": [
              "(240, 240, 1)"
            ]
          },
          "metadata": {
            "tags": []
          },
          "execution_count": 273
        }
      ]
    },
    {
      "cell_type": "code",
      "metadata": {
        "id": "8iV1Ba8485tQ",
        "outputId": "df142107-9edc-41f8-9b6b-9c1a0474932a"
      },
      "source": [
        "def predict(image):\n",
        "    return model.predict(np.asarray([image]) ).reshape((240,240))\n",
        "idx = 42\n",
        "img = x_to[idx]\n",
        "real = y_to[idx]\n",
        "\n",
        "dispplay(img.reshape((240,240)))\n",
        "dispplay(real.reshape((240,240)))\n",
        "\n",
        "pred = predict(img)\n",
        "dispplay(pred)"
      ],
      "execution_count": null,
      "outputs": [
        {
          "output_type": "display_data",
          "data": {
            "image/png": "[encoded data removed]",
            "text/plain": [
              "<Figure size 432x288 with 1 Axes>"
            ]
          },
          "metadata": {
            "tags": [],
            "needs_background": "light"
          }
        },
        {
          "output_type": "display_data",
          "data": {
            "image/png": "[encoded data removed]",
            "text/plain": [
              "<Figure size 432x288 with 1 Axes>"
            ]
          },
          "metadata": {
            "tags": [],
            "needs_background": "light"
          }
        },
        {
          "output_type": "display_data",
          "data": {
            "image/png": "[encoded data removed]",
            "text/plain": [
              "<Figure size 432x288 with 1 Axes>"
            ]
          },
          "metadata": {
            "tags": [],
            "needs_background": "light"
          }
        }
      ]
    },
    {
      "cell_type": "code",
      "metadata": {
        "id": "puqDCjQL85tQ"
      },
      "source": [],
      "execution_count": null,
      "outputs": []
    }
  ]
}